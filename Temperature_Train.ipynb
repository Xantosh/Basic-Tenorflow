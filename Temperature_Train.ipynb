{
  "nbformat": 4,
  "nbformat_minor": 0,
  "metadata": {
    "colab": {
      "name": "Temperature_Train.ipynb",
      "provenance": [],
      "authorship_tag": "ABX9TyPTlx0rPjIsPsrOQvEueDER",
      "include_colab_link": true
    },
    "kernelspec": {
      "name": "python3",
      "display_name": "Python 3"
    },
    "language_info": {
      "name": "python"
    }
  },
  "cells": [
    {
      "cell_type": "markdown",
      "metadata": {
        "id": "view-in-github",
        "colab_type": "text"
      },
      "source": [
        "<a href=\"https://colab.research.google.com/github/Xantosh/Basic-Tenorflow/blob/main/Temperature_Train.ipynb\" target=\"_parent\"><img src=\"https://colab.research.google.com/assets/colab-badge.svg\" alt=\"Open In Colab\"/></a>"
      ]
    },
    {
      "cell_type": "code",
      "execution_count": 2,
      "metadata": {
        "id": "KaCjpDL06Dj9"
      },
      "outputs": [],
      "source": [
        "import tensorflow as tf\n",
        "import numpy  as np\n",
        "import logging"
      ]
    },
    {
      "cell_type": "code",
      "source": [
        "logger = tf.get_logger()\n",
        "logger.setLevel(logging.ERROR)"
      ],
      "metadata": {
        "id": "QahUoiV-qy2P"
      },
      "execution_count": 3,
      "outputs": []
    },
    {
      "cell_type": "code",
      "source": [
        "celsius_data = np.array([-40, -10,  0,  8, 15, 22,  38], dtype = float)\n",
        "farnheit_data = np.array([-40,  14, 32, 46, 59, 72, 100], dtype=float)\n",
        "\n",
        "for i, data in enumerate(celsius_data):\n",
        "  print(\"{} in degree celsius =  {} degree farenheit\".format(data, farnheit_data[i]))"
      ],
      "metadata": {
        "id": "r40J8GPLbh7x"
      },
      "execution_count": null,
      "outputs": []
    },
    {
      "cell_type": "code",
      "source": [
        "# declaring a layer\n",
        "l0 = tf.keras.layers.Dense(units = 1, input_shape=[1])\n",
        "model = tf.keras.Sequential([l0])\n",
        "model.compile(loss = 'mean_squared_error', optimizer = tf.keras.optimizers.Adam(0.1))\n",
        "history = model.fit(celsius_data, farnheit_data, epochs = 500, verbose = False)\n",
        "print(\"Training sucessfully completed\")"
      ],
      "metadata": {
        "colab": {
          "base_uri": "https://localhost:8080/"
        },
        "id": "qiD39H2lc4CG",
        "outputId": "4a0d6e47-7781-431e-aa8b-bb85345bfdf3"
      },
      "execution_count": 5,
      "outputs": [
        {
          "output_type": "stream",
          "name": "stdout",
          "text": [
            "Training sucessfully completed\n"
          ]
        }
      ]
    },
    {
      "cell_type": "code",
      "source": [
        "import matplotlib.pyplot as plt\n",
        "plt.xlabel('Epoch Number')\n",
        "plt.ylabel('Loss Magnitude')\n",
        "plt.plot(history.history['loss'])"
      ],
      "metadata": {
        "colab": {
          "base_uri": "https://localhost:8080/",
          "height": 296
        },
        "id": "rC7EYu2Ie5iY",
        "outputId": "9da94e98-d920-49ff-c3a4-79d0030a660c"
      },
      "execution_count": 6,
      "outputs": [
        {
          "output_type": "execute_result",
          "data": {
            "text/plain": [
              "[<matplotlib.lines.Line2D at 0x7f393ab10210>]"
            ]
          },
          "metadata": {},
          "execution_count": 6
        },
        {
          "output_type": "display_data",
          "data": {
            "text/plain": [
              "<Figure size 432x288 with 1 Axes>"
            ],
            "image/png": "[encoded data removed]"
          },
          "metadata": {
            "needs_background": "light"
          }
        }
      ]
    },
    {
      "cell_type": "code",
      "source": [
        "print(model.predict([100.0]))"
      ],
      "metadata": {
        "colab": {
          "base_uri": "https://localhost:8080/"
        },
        "id": "kEVXGgG_flM2",
        "outputId": "b4d9bdbd-55a5-4ca7-a7e2-0a6ef0894112"
      },
      "execution_count": 7,
      "outputs": [
        {
          "output_type": "stream",
          "name": "stdout",
          "text": [
            "[[211.3364]]\n"
          ]
        }
      ]
    }
  ]
}